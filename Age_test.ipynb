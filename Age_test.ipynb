{
 "cells": [
  {
   "cell_type": "code",
   "execution_count": 1,
   "metadata": {},
   "outputs": [],
   "source": [
    "import sys\n",
    "#sys.path.append('/Users/rociokiman/Documents/Gaia-Cupid/ActivityAgeRelation/banyan_sigma')\n",
    "#from banyan_sigma import banyan_sigma\n",
    "from astropy.io import fits\n",
    "import numpy as np\n",
    "from astropy.table import Table\n",
    "import matplotlib.pyplot as plt\n",
    "from wdwarfdate import calc_wd_age"
   ]
  },
  {
   "cell_type": "code",
   "execution_count": 2,
   "metadata": {},
   "outputs": [],
   "source": [
    "teff=np.array([20000,10000])\n",
    "e_teff=np.array([500,100])\n",
    "logg=np.array([8.0,8.0])\n",
    "e_logg=np.array([0.2,0.1])\n",
    "final_mass=np.array([0.6,0.6])\n",
    "e_final_mass=np.array([0.06,0.01])\n",
    "\n",
    "total_age_median,total_age_std = calc_wd_age(teff,e_teff,logg,e_logg,final_mass,e_final_mass,n_mc=2000,model_wd='DA',feh='p0.00',vvcrit='0.0')"
   ]
  },
  {
   "cell_type": "code",
   "execution_count": 3,
   "metadata": {},
   "outputs": [
    {
     "name": "stdout",
     "output_type": "stream",
     "text": [
      "[2.92777207e+09 4.71686344e+09] [3.83953193e+09 1.12597636e+09]\n"
     ]
    }
   ],
   "source": [
    "print(total_age_median,total_age_std)"
   ]
  },
  {
   "cell_type": "code",
   "execution_count": null,
   "metadata": {},
   "outputs": [],
   "source": []
  },
  {
   "cell_type": "code",
   "execution_count": 2,
   "metadata": {},
   "outputs": [],
   "source": [
    "wd_gold = fits.open('/Users/rociokiman/Documents/M-dwarfs-Age-Activity-Relation/Catalogs/gold_gaiawd.fits')\n",
    "mg_ref = Table.read('/Users/rociokiman/Documents/M-dwarfs-Age-Activity-Relation/Catalogs/moving_groups_ref.csv')"
   ]
  },
  {
   "cell_type": "code",
   "execution_count": 3,
   "metadata": {},
   "outputs": [],
   "source": [
    "ra = wd_gold[1].data['ra']\n",
    "dec = wd_gold[1].data['dec']\n",
    "pmra = wd_gold[1].data['pmra']\n",
    "pmra_error = wd_gold[1].data['pmra_error']\n",
    "pmdec = wd_gold[1].data['pmdec']\n",
    "pmdec_error = wd_gold[1].data['pmdec_error']\n",
    "parallax = wd_gold[1].data['parallax']\n",
    "parallax_error = wd_gold[1].data['parallax_error']"
   ]
  },
  {
   "cell_type": "code",
   "execution_count": 4,
   "metadata": {},
   "outputs": [],
   "source": [
    "mask = ((~np.isnan(ra+dec+pmra+pmra_error+pmdec+pmdec_error+parallax+parallax_error))\n",
    "        * (parallax/parallax_error > 10))"
   ]
  },
  {
   "cell_type": "code",
   "execution_count": 5,
   "metadata": {},
   "outputs": [],
   "source": [
    "OUTPUT_STRUCTURE = banyan_sigma(ra=ra[mask], dec=dec[mask], \n",
    "                                 pmra=pmra[mask], pmdec=pmdec[mask], \n",
    "                                 epmra=pmra_error[mask], \n",
    "                                 epmdec=pmdec_error[mask], \n",
    "                                 plx=parallax[mask], \n",
    "                                 eplx=parallax_error[mask])"
   ]
  },
  {
   "cell_type": "code",
   "execution_count": 6,
   "metadata": {},
   "outputs": [
    {
     "data": {
      "text/plain": [
       "<TableColumns names=('name','age','age_error','ref_age','group_num','Comment','col6')>"
      ]
     },
     "execution_count": 6,
     "metadata": {},
     "output_type": "execute_result"
    }
   ],
   "source": [
    "mg_ref.columns"
   ]
  },
  {
   "cell_type": "code",
   "execution_count": 7,
   "metadata": {},
   "outputs": [],
   "source": [
    "prob_ya_small = np.array(OUTPUT_STRUCTURE['YA_PROB']).reshape(len(OUTPUT_STRUCTURE['YA_PROB']),)\n",
    "best_ya_small = np.array(OUTPUT_STRUCTURE['BEST_YA']).reshape(len(OUTPUT_STRUCTURE['BEST_YA']),)\n",
    "mask_group = prob_ya_small > 0.9\n",
    "age_small = []\n",
    "for x in best_ya_small[mask_group]:\n",
    "    mask_mg = x == mg_ref['name']\n",
    "    age_small.append(mg_ref['age'][mask_mg][0])\n",
    "    \n",
    "age_ya = np.array(age_small)*1e6\n",
    "prob_ya = prob_ya_small[mask_group]"
   ]
  },
  {
   "cell_type": "code",
   "execution_count": 8,
   "metadata": {},
   "outputs": [],
   "source": [
    "logg = wd_gold[1].data['log_g'][mask][mask_group]\n",
    "e_logg = wd_gold[1].data['elog_g'][mask][mask_group]\n",
    "teff = wd_gold[1].data['Teff'][mask][mask_group]\n",
    "e_teff = wd_gold[1].data['eTeff'][mask][mask_group]\n",
    "final_mass = wd_gold[1].data['mass'][mask][mask_group]\n",
    "e_final_mass = wd_gold[1].data['emass'][mask][mask_group]"
   ]
  },
  {
   "cell_type": "code",
   "execution_count": 9,
   "metadata": {},
   "outputs": [
    {
     "data": {
      "text/plain": [
       "array([1.50e+06, 1.50e+06, 4.00e+07, 4.00e+07, 5.62e+08, 5.62e+08,\n",
       "       1.50e+06])"
      ]
     },
     "execution_count": 9,
     "metadata": {},
     "output_type": "execute_result"
    }
   ],
   "source": [
    "age_ya[~np.isnan(age_ya)]"
   ]
  },
  {
   "cell_type": "code",
   "execution_count": 10,
   "metadata": {},
   "outputs": [
    {
     "name": "stderr",
     "output_type": "stream",
     "text": [
      "/Users/rociokiman/anaconda3/lib/python3.7/site-packages/numpy/lib/function_base.py:3405: RuntimeWarning: All-NaN slice encountered\n",
      "  r = func(a, **kwargs)\n",
      "/Users/rociokiman/anaconda3/lib/python3.7/site-packages/numpy/lib/nanfunctions.py:1628: RuntimeWarning: Degrees of freedom <= 0 for slice.\n",
      "  keepdims=keepdims)\n"
     ]
    }
   ],
   "source": [
    "total_age_median,total_age_std = calc_wd_age(teff,e_teff,logg,e_logg,final_mass,e_final_mass,n_mc=2000,model_wd='DA',\n",
    "                                             feh='p0.00',vvcrit='0.0')"
   ]
  },
  {
   "cell_type": "code",
   "execution_count": 18,
   "metadata": {},
   "outputs": [
    {
     "data": {
      "text/plain": [
       "array([1.81417686e+09,            nan, 3.67454631e+09, 3.67225881e+09,\n",
       "       5.72644459e+08, 5.72714932e+08, 1.07000091e+16])"
      ]
     },
     "execution_count": 18,
     "metadata": {},
     "output_type": "execute_result"
    }
   ],
   "source": [
    "total_age_median"
   ]
  },
  {
   "cell_type": "code",
   "execution_count": 19,
   "metadata": {},
   "outputs": [
    {
     "data": {
      "text/plain": [
       "array([0.755232, 0.339804, 0.788042, 0.788042, 0.886805, 0.886805,\n",
       "       1.004971])"
      ]
     },
     "execution_count": 19,
     "metadata": {},
     "output_type": "execute_result"
    }
   ],
   "source": [
    "final_mass"
   ]
  },
  {
   "cell_type": "code",
   "execution_count": 17,
   "metadata": {},
   "outputs": [
    {
     "data": {
      "text/plain": [
       "[<matplotlib.lines.Line2D at 0x1a21e004a8>]"
      ]
     },
     "execution_count": 17,
     "metadata": {},
     "output_type": "execute_result"
    },
    {
     "data": {
      "image/png": "[encoded data removed]",
      "text/plain": [
       "<Figure size 432x288 with 1 Axes>"
      ]
     },
     "metadata": {
      "needs_background": "light"
     },
     "output_type": "display_data"
    }
   ],
   "source": [
    "plt.loglog(total_age_median,age_ya,'.')"
   ]
  },
  {
   "cell_type": "code",
   "execution_count": null,
   "metadata": {},
   "outputs": [],
   "source": []
  }
 ],
 "metadata": {
  "kernelspec": {
   "display_name": "Python 3",
   "language": "python",
   "name": "python3"
  },
  "language_info": {
   "codemirror_mode": {
    "name": "ipython",
    "version": 3
   },
   "file_extension": ".py",
   "mimetype": "text/x-python",
   "name": "python",
   "nbconvert_exporter": "python",
   "pygments_lexer": "ipython3",
   "version": "3.6.4"
  }
 },
 "nbformat": 4,
 "nbformat_minor": 2
}
