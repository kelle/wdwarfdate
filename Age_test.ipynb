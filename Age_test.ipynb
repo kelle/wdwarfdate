{
 "cells": [
  {
   "cell_type": "code",
   "execution_count": 2,
   "metadata": {
    "scrolled": true
   },
   "outputs": [
    {
     "data": {
      "text/plain": [
       "<Figure size 640x480 with 1 Axes>"
      ]
     },
     "metadata": {},
     "output_type": "display_data"
    },
    {
     "name": "stderr",
     "output_type": "stream",
     "text": [
      "/Users/rociokiman/anaconda3/lib/python3.7/site-packages/numpy/lib/histograms.py:824: RuntimeWarning: invalid value encountered in greater_equal\n",
      "  keep = (tmp_a >= first_edge)\n",
      "/Users/rociokiman/anaconda3/lib/python3.7/site-packages/numpy/lib/histograms.py:825: RuntimeWarning: invalid value encountered in less_equal\n",
      "  keep &= (tmp_a <= last_edge)\n"
     ]
    },
    {
     "data": {
      "text/plain": [
       "<Figure size 640x480 with 1 Axes>"
      ]
     },
     "metadata": {},
     "output_type": "display_data"
    },
    {
     "data": {
      "text/plain": [
       "<Figure size 640x480 with 1 Axes>"
      ]
     },
     "metadata": {},
     "output_type": "display_data"
    },
    {
     "data": {
      "text/plain": [
       "<Figure size 640x480 with 1 Axes>"
      ]
     },
     "metadata": {},
     "output_type": "display_data"
    }
   ],
   "source": [
    "import sys\n",
    "#sys.path.append('/Users/rociokiman/Documents/Gaia-Cupid/ActivityAgeRelation/banyan_sigma')\n",
    "#from banyan_sigma import banyan_sigma\n",
    "from astropy.io import fits\n",
    "import numpy as np\n",
    "from astropy.table import Table\n",
    "import matplotlib.pyplot as plt\n",
    "from wdwarfdate import calc_wd_age"
   ]
  },
  {
   "cell_type": "markdown",
   "metadata": {},
   "source": [
    "## Check code"
   ]
  },
  {
   "cell_type": "code",
   "execution_count": null,
   "metadata": {},
   "outputs": [],
   "source": [
    "binaries = fits.open('Catalogs/mdwarf-wdwarf_binaries.fits')\n",
    "check_age = Table.read('Catalogs/stats.summary.local',format='ascii')\n",
    "log = Table.read('Catalogs/trans_log.csv')"
   ]
  },
  {
   "cell_type": "code",
   "execution_count": null,
   "metadata": {},
   "outputs": [],
   "source": [
    "binaries[1].columns"
   ]
  },
  {
   "cell_type": "code",
   "execution_count": null,
   "metadata": {},
   "outputs": [],
   "source": [
    "gaia_id_binaries = binaries[1].data['Source_wd']\n",
    "teff_binaries = binaries[1].data['TeffH_wd']\n",
    "e_teff_binaries = binaries[1].data['e_TeffH_wd']\n",
    "logg_binaries = binaries[1].data['loggH_wd']\n",
    "e_logg_binaries = binaries[1].data['e_loggH_wd']\n",
    "mass_binaries = binaries[1].data['MassH_wd']\n",
    "e_mass_binaries = binaries[1].data['e_MassH_wd']\n",
    "color_wd = binaries[1].data['phot_bp_mean_mag_wd'] - binaries[1].data['phot_rp_mean_mag_wd']"
   ]
  },
  {
   "cell_type": "code",
   "execution_count": null,
   "metadata": {},
   "outputs": [],
   "source": [
    "gaia_id_log = np.array([x for x in log['Gaia_id']])\n",
    "extra_id_log = np.array([x for x in log['extra_id']])\n",
    "\n",
    "extra_id_check = np.array([float(x) for x in check_age['col1'][1:]])\n",
    "total_age_check = np.array([float(x) for x in check_age['col4'][1:]])\n",
    "e_total_age_check = np.array([float(x) for x in check_age['col5'][1:]])"
   ]
  },
  {
   "cell_type": "code",
   "execution_count": null,
   "metadata": {},
   "outputs": [],
   "source": [
    "total_age = []\n",
    "e_total_age = []\n",
    "for x in extra_id_log:\n",
    "    mask = x == extra_id_check\n",
    "    if(any(mask)):\n",
    "        total_age.append(total_age_check[mask][0])\n",
    "        e_total_age.append(e_total_age_check[mask][0])\n",
    "    else:\n",
    "        total_age.append(np.nan)\n",
    "        e_total_age.append(np.nan)\n",
    "total_age = 10**np.array(total_age)\n",
    "e_total_age = 10**np.array(e_total_age)"
   ]
  },
  {
   "cell_type": "code",
   "execution_count": null,
   "metadata": {},
   "outputs": [],
   "source": [
    "total_age_median,total_age_std = calc_wd_age(teff_binaries,e_teff_binaries,logg_binaries,e_logg_binaries,\n",
    "                                             mass_binaries,e_mass_binaries,n_mc=2000)"
   ]
  },
  {
   "cell_type": "code",
   "execution_count": null,
   "metadata": {},
   "outputs": [],
   "source": [
    "plt.scatter(total_age,total_age_median,c=color_wd)\n",
    "plt.plot(total_age[color_wd > 0.9],total_age_median[color_wd > 0.9],'.',color='r')\n",
    "plt.plot(total_age,total_age,'k-')\n",
    "plt.xlabel('von Hippel ages')\n",
    "plt.ylabel('my ages')\n",
    "plt.colorbar(label=r'$(G_{\\rm BP}-G_{\\rm RP})_{\\rm WD}$')\n",
    "plt.show()\n",
    "\n",
    "plt.scatter(total_age,total_age-total_age_median,c=color_wd)\n",
    "plt.plot(total_age[color_wd > 0.9],total_age[color_wd > 0.9]-total_age_median[color_wd > 0.9],'.',color='r')\n",
    "plt.axhline(y=0,color='k')\n",
    "plt.xlabel('von Hippel ages')\n",
    "plt.ylabel(r'$\\Delta (Age)$')\n",
    "plt.colorbar(label=r'$(G_{\\rm BP}-G_{\\rm RP})_{\\rm WD}$')\n",
    "plt.show()\n",
    "\n",
    "\n",
    "plt.scatter(total_age,total_age_median,c=mass_binaries)\n",
    "plt.plot(total_age,total_age,'k-')\n",
    "plt.xlabel('von Hippel ages')\n",
    "plt.ylabel('my ages')\n",
    "plt.colorbar(label=r'$Mass_{\\rm WD}$')\n",
    "plt.show()"
   ]
  },
  {
   "cell_type": "code",
   "execution_count": null,
   "metadata": {},
   "outputs": [],
   "source": []
  },
  {
   "cell_type": "code",
   "execution_count": null,
   "metadata": {},
   "outputs": [],
   "source": []
  },
  {
   "cell_type": "code",
   "execution_count": null,
   "metadata": {},
   "outputs": [],
   "source": []
  },
  {
   "cell_type": "code",
   "execution_count": null,
   "metadata": {},
   "outputs": [],
   "source": []
  },
  {
   "cell_type": "code",
   "execution_count": 3,
   "metadata": {},
   "outputs": [],
   "source": [
    "cummings_2018 = Table.read('Catalogs/Cummings2018.csv',format='csv')"
   ]
  },
  {
   "cell_type": "code",
   "execution_count": 4,
   "metadata": {},
   "outputs": [],
   "source": [
    "def IFMR_mist(initial_mass):\n",
    "    if(not isinstance(initial_mass,np.ndarray)):\n",
    "        initial_mass = np.array([initial_mass])\n",
    "    N = len(initial_mass)\n",
    "    final_mass = np.ones(N)*np.nan\n",
    "    for i in range(N):\n",
    "        if(initial_mass[i] > 0.83 and initial_mass[i] <= 2.85):\n",
    "            final_mass[i] = 0.08*initial_mass[i] + 0.489\n",
    "        elif(initial_mass[i] > 2.85 and initial_mass[i] <= 3.60):\n",
    "            final_mass[i] = 0.187*initial_mass[i] + 0.184\n",
    "        elif(initial_mass[i] > 3.60 and initial_mass[i] <= 7.20):\n",
    "            final_mass[i] = 0.107*initial_mass[i] + 0.471\n",
    "    return final_mass\n",
    "\n",
    "def IFMR_mist_r(final_mass):\n",
    "    if(not isinstance(final_mass,np.ndarray)):\n",
    "        final_mass = np.array([final_mass])\n",
    "        \n",
    "    N = len(final_mass)\n",
    "    initial_mass = np.ones(N)*np.nan\n",
    "    for j in range(N):\n",
    "        if((0.5554 < final_mass[j]) and (final_mass[j] <= 0.717)):\n",
    "            initial_mass[j] = (final_mass[j] - 0.489)/0.08\n",
    "        elif((0.71695 < final_mass[j]) and (final_mass[j] <= 0.8572)):\n",
    "            initial_mass[j] = (final_mass[j] - 0.184)/0.187\n",
    "        elif((0.8562 < final_mass[j]) and (final_mass[j] <= 1.2414)):\n",
    "            initial_mass[j] = (final_mass[j] - 0.471)/0.107\n",
    "    return initial_mass"
   ]
  },
  {
   "cell_type": "code",
   "execution_count": 5,
   "metadata": {},
   "outputs": [
    {
     "name": "stderr",
     "output_type": "stream",
     "text": [
      "/Users/rociokiman/anaconda3/lib/python3.7/site-packages/astropy/table/column.py:965: RuntimeWarning: invalid value encountered in greater\n",
      "  return getattr(self.data, op)(other)\n"
     ]
    }
   ],
   "source": [
    "mask_outliers = abs(IFMR_mist(cummings_2018['Mi_mist'])-cummings_2018['Mf']) > 2*cummings_2018['Mf_err']\n",
    "mask_outliers[40] = True #Evident outlier in the paper but is outside the range of initial masses so the\n",
    "                          #cut doesn't remove it"
   ]
  },
  {
   "cell_type": "code",
   "execution_count": 6,
   "metadata": {},
   "outputs": [],
   "source": [
    "teff = cummings_2018['Teff']\n",
    "teff_err = cummings_2018['Teff_err']\n",
    "logg = cummings_2018['logg']\n",
    "logg_err = cummings_2018['logg_err']\n",
    "final_mass = cummings_2018['Mf']\n",
    "final_mass_err = cummings_2018['Mf_err']\n",
    "tcool = cummings_2018['Tcool']\n",
    "tcool_err_high = cummings_2018['Tcool_err_high']\n",
    "tcool_err_low = cummings_2018['Tcool_err_low']\n",
    "initial_mass = cummings_2018['Mi_mist']\n",
    "initial_mass_err_low = cummings_2018['Mi_mist_err_low']\n",
    "initial_mass_err_high = cummings_2018['Mi_mist_err_high']\n",
    "total_age = cummings_2018['Age_mist']\n",
    "total_age_err = cummings_2018['Age_mist_err']"
   ]
  },
  {
   "cell_type": "code",
   "execution_count": 7,
   "metadata": {},
   "outputs": [],
   "source": [
    "results = calc_wd_age(teff,teff_err,logg,logg_err,n_mc=10000,vvcrit='0.0',return_distributions=True)"
   ]
  },
  {
   "cell_type": "code",
   "execution_count": 8,
   "metadata": {},
   "outputs": [
    {
     "data": {
      "image/png": "[encoded data removed]",
      "text/plain": [
       "<Figure size 720x216 with 3 Axes>"
      ]
     },
     "metadata": {
      "needs_background": "light"
     },
     "output_type": "display_data"
    }
   ],
   "source": [
    "f,(ax1,ax2,ax3) = plt.subplots(1,3,figsize=(10,3))\n",
    "x = np.linspace(0.4,1.3)\n",
    "ax1.errorbar(final_mass[~mask_outliers],results['final_mass_median'][~mask_outliers],\n",
    "             xerr=final_mass_err[~mask_outliers],\n",
    "             yerr=(results['final_mass_median'][~mask_outliers] - results['final_mass_err_low'][~mask_outliers],\n",
    "                   results['final_mass_err_high'][~mask_outliers] - results['final_mass_median'][~mask_outliers]),fmt='.',zorder=0)\n",
    "ax1.plot(x,x,color='k',zorder=2)\n",
    "ax1.set_xlabel('Final Mass Cummings 2018')\n",
    "ax1.set_ylabel('Final Mass this work')\n",
    "\n",
    "x = np.linspace(0,500)\n",
    "ax2.errorbar(tcool[~mask_outliers],results['cooling_age_median'][~mask_outliers]/1e6,\n",
    "             xerr=(tcool_err_low[~mask_outliers],tcool_err_high[~mask_outliers]),\n",
    "             yerr=(results['cooling_age_median'][~mask_outliers]/1e6 - results['cooling_age_err_low'][~mask_outliers]/1e6,\n",
    "                   results['cooling_age_err_high'][~mask_outliers]/1e6 - results['cooling_age_median'][~mask_outliers]/1e6),fmt='.',zorder=0)\n",
    "ax2.plot(x,x,color='k',zorder=2)\n",
    "ax2.set_xlabel('Cooling Age (Myr) Cummings 2018')\n",
    "ax2.set_ylabel('Cooling Age (Myr) this work')\n",
    "\n",
    "x = np.linspace(0,10)\n",
    "ax3.errorbar(initial_mass[~mask_outliers],results['initial_mass_median'][~mask_outliers],\n",
    "             xerr=(initial_mass_err_low[~mask_outliers],initial_mass_err_high[~mask_outliers]),\n",
    "             yerr=(results['initial_mass_median'][~mask_outliers] - results['initial_mass_err_low'][~mask_outliers],\n",
    "                   results['initial_mass_err_high'][~mask_outliers] - results['initial_mass_median'][~mask_outliers]),fmt='.',zorder=0)\n",
    "ax3.plot(x,x,color='k',zorder=2)\n",
    "ax3.set_xlabel('Initial Mass Cummings 2018')\n",
    "ax3.set_ylabel('Initial Mass this work')\n",
    "ax3.set_xlim(-0.2,10)\n",
    "\n",
    "plt.tight_layout()"
   ]
  },
  {
   "cell_type": "code",
   "execution_count": 9,
   "metadata": {},
   "outputs": [
    {
     "data": {
      "text/plain": [
       "<matplotlib.legend.Legend at 0x10a339908>"
      ]
     },
     "execution_count": 9,
     "metadata": {},
     "output_type": "execute_result"
    },
    {
     "data": {
      "image/png": "[encoded data removed]",
      "text/plain": [
       "<Figure size 432x288 with 1 Axes>"
      ]
     },
     "metadata": {
      "needs_background": "light"
     },
     "output_type": "display_data"
    }
   ],
   "source": [
    "x = np.linspace(0.87,7.20)\n",
    "plt.errorbar(cummings_2018['Mi_mist'],cummings_2018['Mf'],\n",
    "             xerr=(cummings_2018['Mi_mist_err_low'],cummings_2018['Mi_mist_err_high']),\n",
    "             yerr=cummings_2018['Mf_err'],fmt='.',label='Cummings et al. 2018',zorder=2)\n",
    "plt.plot(cummings_2018['Mi_mist'][mask_outliers],cummings_2018['Mf'][mask_outliers],\n",
    "         '.r',label='Cummings et al. 2018 outliers',zorder=3)\n",
    "plt.errorbar(results['initial_mass_median'][~mask_outliers],results['final_mass_median'][~mask_outliers],\n",
    "             xerr=(results['initial_mass_median'][~mask_outliers] - results['initial_mass_err_low'][~mask_outliers],\n",
    "                   results['initial_mass_err_high'][~mask_outliers] - results['initial_mass_median'][~mask_outliers]),\n",
    "             yerr=(results['final_mass_median'][~mask_outliers] - results['final_mass_err_low'][~mask_outliers],\n",
    "                   results['final_mass_err_high'][~mask_outliers] - results['final_mass_median'][~mask_outliers]),\n",
    "             fmt='.',zorder=0,\n",
    "             label='This work')\n",
    "plt.plot(x,IFMR_mist(x),color='k',zorder=4,label='Semi-Empirical MIST IFMR\\n(Cummings et al. 2018)')\n",
    "plt.xlabel('Initial Mass')\n",
    "plt.ylabel('Final Mass')\n",
    "plt.xlim(0,10)\n",
    "plt.legend(loc=4)"
   ]
  },
  {
   "cell_type": "code",
   "execution_count": 10,
   "metadata": {},
   "outputs": [],
   "source": [
    "from brokenaxes import brokenaxes"
   ]
  },
  {
   "cell_type": "code",
   "execution_count": 12,
   "metadata": {},
   "outputs": [
    {
     "data": {
      "text/plain": [
       "Text(0, 0.5, 'Total Age this work (Myr)')"
      ]
     },
     "execution_count": 12,
     "metadata": {},
     "output_type": "execute_result"
    },
    {
     "data": {
      "image/png": "[encoded data removed]",
      "text/plain": [
       "<Figure size 1008x360 with 4 Axes>"
      ]
     },
     "metadata": {
      "needs_background": "light"
     },
     "output_type": "display_data"
    }
   ],
   "source": [
    "random_shift = np.random.rand(len(total_age))*total_age*0.02 - (total_age*0.02/2)\n",
    "fig = plt.figure(figsize=(14,5))\n",
    "bax = brokenaxes(xlims=((-1, 900), (1250,2750), (10900, 13000)), hspace=.05)\n",
    "x = np.linspace(0,12000)\n",
    "bax.errorbar((total_age+random_shift)[~mask_outliers],results['total_age_median'][~mask_outliers]/1e6,\n",
    "             xerr=total_age_err[~mask_outliers],\n",
    "             yerr=(results['total_age_median'][~mask_outliers]/1e6 - results['total_age_err_low'][~mask_outliers]/1e6,\n",
    "                   results['total_age_err_high'][~mask_outliers]/1e6 - results['total_age_median'][~mask_outliers]/1e6),\n",
    "             label='Total Age',fmt='.',zorder=0)\n",
    "bax.plot(x,x,color='k',zorder=3,label='One to one line')\n",
    "bax.legend(loc=2)\n",
    "bax.set_xlabel('Total Age Cummings 2018 (Myr)')\n",
    "bax.set_ylabel('Total Age this work (Myr)')"
   ]
  },
  {
   "cell_type": "code",
   "execution_count": null,
   "metadata": {},
   "outputs": [],
   "source": []
  },
  {
   "cell_type": "code",
   "execution_count": null,
   "metadata": {},
   "outputs": [],
   "source": []
  },
  {
   "cell_type": "code",
   "execution_count": null,
   "metadata": {},
   "outputs": [],
   "source": []
  },
  {
   "cell_type": "code",
   "execution_count": 2,
   "metadata": {},
   "outputs": [],
   "source": [
    "teff=np.array([20000,10000])\n",
    "e_teff=np.array([500,100])\n",
    "logg=np.array([8.0,8.0])\n",
    "e_logg=np.array([0.2,0.1])\n",
    "final_mass=np.array([0.6,0.6])\n",
    "e_final_mass=np.array([0.06,0.01])\n",
    "\n",
    "total_age_median,total_age_std = calc_wd_age(teff,e_teff,logg,e_logg,final_mass,e_final_mass,n_mc=2000,model_wd='DA',feh='p0.00',vvcrit='0.0')"
   ]
  },
  {
   "cell_type": "code",
   "execution_count": 3,
   "metadata": {},
   "outputs": [
    {
     "name": "stdout",
     "output_type": "stream",
     "text": [
      "[2.92777207e+09 4.71686344e+09] [3.83953193e+09 1.12597636e+09]\n"
     ]
    }
   ],
   "source": [
    "print(total_age_median,total_age_std)"
   ]
  },
  {
   "cell_type": "code",
   "execution_count": null,
   "metadata": {},
   "outputs": [],
   "source": []
  },
  {
   "cell_type": "code",
   "execution_count": 2,
   "metadata": {},
   "outputs": [],
   "source": [
    "wd_gold = fits.open('/Users/rociokiman/Documents/M-dwarfs-Age-Activity-Relation/Catalogs/gold_gaiawd.fits')\n",
    "mg_ref = Table.read('/Users/rociokiman/Documents/M-dwarfs-Age-Activity-Relation/Catalogs/moving_groups_ref.csv')"
   ]
  },
  {
   "cell_type": "code",
   "execution_count": 3,
   "metadata": {},
   "outputs": [],
   "source": [
    "ra = wd_gold[1].data['ra']\n",
    "dec = wd_gold[1].data['dec']\n",
    "pmra = wd_gold[1].data['pmra']\n",
    "pmra_error = wd_gold[1].data['pmra_error']\n",
    "pmdec = wd_gold[1].data['pmdec']\n",
    "pmdec_error = wd_gold[1].data['pmdec_error']\n",
    "parallax = wd_gold[1].data['parallax']\n",
    "parallax_error = wd_gold[1].data['parallax_error']"
   ]
  },
  {
   "cell_type": "code",
   "execution_count": 4,
   "metadata": {},
   "outputs": [],
   "source": [
    "mask = ((~np.isnan(ra+dec+pmra+pmra_error+pmdec+pmdec_error+parallax+parallax_error))\n",
    "        * (parallax/parallax_error > 10))"
   ]
  },
  {
   "cell_type": "code",
   "execution_count": 5,
   "metadata": {},
   "outputs": [],
   "source": [
    "OUTPUT_STRUCTURE = banyan_sigma(ra=ra[mask], dec=dec[mask], \n",
    "                                 pmra=pmra[mask], pmdec=pmdec[mask], \n",
    "                                 epmra=pmra_error[mask], \n",
    "                                 epmdec=pmdec_error[mask], \n",
    "                                 plx=parallax[mask], \n",
    "                                 eplx=parallax_error[mask])"
   ]
  },
  {
   "cell_type": "code",
   "execution_count": 6,
   "metadata": {},
   "outputs": [
    {
     "data": {
      "text/plain": [
       "<TableColumns names=('name','age','age_error','ref_age','group_num','Comment','col6')>"
      ]
     },
     "execution_count": 6,
     "metadata": {},
     "output_type": "execute_result"
    }
   ],
   "source": [
    "mg_ref.columns"
   ]
  },
  {
   "cell_type": "code",
   "execution_count": 7,
   "metadata": {},
   "outputs": [],
   "source": [
    "prob_ya_small = np.array(OUTPUT_STRUCTURE['YA_PROB']).reshape(len(OUTPUT_STRUCTURE['YA_PROB']),)\n",
    "best_ya_small = np.array(OUTPUT_STRUCTURE['BEST_YA']).reshape(len(OUTPUT_STRUCTURE['BEST_YA']),)\n",
    "mask_group = prob_ya_small > 0.9\n",
    "age_small = []\n",
    "for x in best_ya_small[mask_group]:\n",
    "    mask_mg = x == mg_ref['name']\n",
    "    age_small.append(mg_ref['age'][mask_mg][0])\n",
    "    \n",
    "age_ya = np.array(age_small)*1e6\n",
    "prob_ya = prob_ya_small[mask_group]"
   ]
  },
  {
   "cell_type": "code",
   "execution_count": 8,
   "metadata": {},
   "outputs": [],
   "source": [
    "logg = wd_gold[1].data['log_g'][mask][mask_group]\n",
    "e_logg = wd_gold[1].data['elog_g'][mask][mask_group]\n",
    "teff = wd_gold[1].data['Teff'][mask][mask_group]\n",
    "e_teff = wd_gold[1].data['eTeff'][mask][mask_group]\n",
    "final_mass = wd_gold[1].data['mass'][mask][mask_group]\n",
    "e_final_mass = wd_gold[1].data['emass'][mask][mask_group]"
   ]
  },
  {
   "cell_type": "code",
   "execution_count": 9,
   "metadata": {},
   "outputs": [
    {
     "data": {
      "text/plain": [
       "array([1.50e+06, 1.50e+06, 4.00e+07, 4.00e+07, 5.62e+08, 5.62e+08,\n",
       "       1.50e+06])"
      ]
     },
     "execution_count": 9,
     "metadata": {},
     "output_type": "execute_result"
    }
   ],
   "source": [
    "age_ya[~np.isnan(age_ya)]"
   ]
  },
  {
   "cell_type": "code",
   "execution_count": 10,
   "metadata": {},
   "outputs": [
    {
     "name": "stderr",
     "output_type": "stream",
     "text": [
      "/Users/rociokiman/anaconda3/lib/python3.7/site-packages/numpy/lib/function_base.py:3405: RuntimeWarning: All-NaN slice encountered\n",
      "  r = func(a, **kwargs)\n",
      "/Users/rociokiman/anaconda3/lib/python3.7/site-packages/numpy/lib/nanfunctions.py:1628: RuntimeWarning: Degrees of freedom <= 0 for slice.\n",
      "  keepdims=keepdims)\n"
     ]
    }
   ],
   "source": [
    "total_age_median,total_age_std = calc_wd_age(teff,e_teff,logg,e_logg,final_mass,e_final_mass,n_mc=2000,model_wd='DA',\n",
    "                                             feh='p0.00',vvcrit='0.0')"
   ]
  },
  {
   "cell_type": "code",
   "execution_count": 18,
   "metadata": {},
   "outputs": [
    {
     "data": {
      "text/plain": [
       "array([1.81417686e+09,            nan, 3.67454631e+09, 3.67225881e+09,\n",
       "       5.72644459e+08, 5.72714932e+08, 1.07000091e+16])"
      ]
     },
     "execution_count": 18,
     "metadata": {},
     "output_type": "execute_result"
    }
   ],
   "source": [
    "total_age_median"
   ]
  },
  {
   "cell_type": "code",
   "execution_count": 19,
   "metadata": {},
   "outputs": [
    {
     "data": {
      "text/plain": [
       "array([0.755232, 0.339804, 0.788042, 0.788042, 0.886805, 0.886805,\n",
       "       1.004971])"
      ]
     },
     "execution_count": 19,
     "metadata": {},
     "output_type": "execute_result"
    }
   ],
   "source": [
    "final_mass"
   ]
  },
  {
   "cell_type": "code",
   "execution_count": 17,
   "metadata": {},
   "outputs": [
    {
     "data": {
      "text/plain": [
       "[<matplotlib.lines.Line2D at 0x1a21e004a8>]"
      ]
     },
     "execution_count": 17,
     "metadata": {},
     "output_type": "execute_result"
    },
    {
     "data": {
      "image/png": "[encoded data removed]",
      "text/plain": [
       "<Figure size 432x288 with 1 Axes>"
      ]
     },
     "metadata": {
      "needs_background": "light"
     },
     "output_type": "display_data"
    }
   ],
   "source": [
    "plt.loglog(total_age_median,age_ya,'.')"
   ]
  },
  {
   "cell_type": "code",
   "execution_count": null,
   "metadata": {},
   "outputs": [],
   "source": []
  }
 ],
 "metadata": {
  "kernelspec": {
   "display_name": "Python 3",
   "language": "python",
   "name": "python3"
  },
  "language_info": {
   "codemirror_mode": {
    "name": "ipython",
    "version": 3
   },
   "file_extension": ".py",
   "mimetype": "text/x-python",
   "name": "python",
   "nbconvert_exporter": "python",
   "pygments_lexer": "ipython3",
   "version": "3.7.3"
  }
 },
 "nbformat": 4,
 "nbformat_minor": 2
}
